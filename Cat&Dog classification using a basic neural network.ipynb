{
 "cells": [
  {
   "cell_type": "code",
   "execution_count": 1,
   "id": "31b460d4",
   "metadata": {},
   "outputs": [],
   "source": [
    "import numpy as np\n",
    "import matplotlib.pyplot as plt\n",
    "from sklearn.datasets import make_blobs\n",
    "from sklearn.metrics import accuracy_score\n",
    "import os\n",
    "import cv2"
   ]
  },
  {
   "cell_type": "code",
   "execution_count": 2,
   "id": "0dd5fe6f",
   "metadata": {},
   "outputs": [],
   "source": [
    "#params initialisation\n",
    "def initialisation(X):\n",
    "    W = np.random.randn(X.shape[1], 1)\n",
    "    b = np.random.randn(1)\n",
    "    return (W, b)"
   ]
  },
  {
   "cell_type": "code",
   "execution_count": 3,
   "id": "cec657f8",
   "metadata": {},
   "outputs": [],
   "source": [
    "#sigmoide \n",
    "def modele(X, W, b):\n",
    "    Z = X.dot(W) + b\n",
    "    A = 1 / (1 + np.exp(-np.clip(Z, -500, 500)))\n",
    "    return A"
   ]
  },
  {
   "cell_type": "code",
   "execution_count": 4,
   "id": "eeeaa25d",
   "metadata": {},
   "outputs": [],
   "source": [
    "#loss function\n",
    "def fct_cout(A, y):\n",
    "    e = 1e-15\n",
    "    return 1 / len(y) * np.sum(-y * np.log(A+e) - (1 - y) * np.log(1 - A+e))"
   ]
  },
  {
   "cell_type": "code",
   "execution_count": 5,
   "id": "791553c5",
   "metadata": {},
   "outputs": [],
   "source": [
    "#gradient (descent de gradient)\n",
    "def gradient(A, X, y):\n",
    "    dW = 1 / len(y) * np.dot(X.T, A - y)\n",
    "    db = 1 / len(y) * np.sum(A - y)\n",
    "    return (dW, db)"
   ]
  },
  {
   "cell_type": "code",
   "execution_count": 6,
   "id": "568fcc6b",
   "metadata": {},
   "outputs": [],
   "source": [
    "#params updating\n",
    "def update(dW, db, W, b, learning_rate):\n",
    "    W = W - learning_rate * dW\n",
    "    b = b - learning_rate * db\n",
    "    return (W, b)"
   ]
  },
  {
   "cell_type": "code",
   "execution_count": 7,
   "id": "8e814cf8",
   "metadata": {},
   "outputs": [],
   "source": [
    "def prediction(X, W, b):\n",
    "    A = modele(X, W, b)\n",
    "    #print(A)\n",
    "    return A >= 0.5"
   ]
  },
  {
   "cell_type": "code",
   "execution_count": 8,
   "id": "aebaca6f",
   "metadata": {},
   "outputs": [],
   "source": [
    "#full structure of our perceptron\n",
    "def perceptron(X, y, learning_rate = 0.1, n_iter = 1000):\n",
    "    # initialisation W, b\n",
    "    W, b = initialisation(X)\n",
    "\n",
    "    Loss = []\n",
    "\n",
    "    for i in range(n_iter):\n",
    "        A = modele(X, W, b)\n",
    "        Loss.append(fct_cout(A, y))\n",
    "        dW, db = gradient(A, X, y)\n",
    "        W, b = update(dW, db, W, b, learning_rate)\n",
    "    \n",
    "    y_pred = prediction(X, W, b)\n",
    "    print(accuracy_score(y, y_pred))\n",
    "\n",
    "    plt.plot(Loss)\n",
    "    plt.show()\n",
    "\n",
    "    return (W, b)"
   ]
  },
  {
   "cell_type": "code",
   "execution_count": 9,
   "id": "3989adcf",
   "metadata": {},
   "outputs": [],
   "source": [
    "def load_images(folder_path, label):\n",
    "    images = []\n",
    "    labels = []\n",
    "    i = 0\n",
    "    for filename in os.listdir(folder_path):\n",
    "        if filename.endswith((\".jpg\", \".png\")):\n",
    "            image_path = os.path.join(folder_path, filename)\n",
    "            image = cv2.imread(image_path, cv2.IMREAD_GRAYSCALE)\n",
    "            image = cv2.resize(image, (256, 256))  \n",
    "            images.append(image.flatten()) \n",
    "            labels.append(label)\n",
    "            i = i + 1\n",
    "            if i == 300 :\n",
    "                break\n",
    "    return images, labels\n",
    "\n",
    "cat_folder = \"Cat_train\"\n",
    "cat_images, cat_labels = load_images(cat_folder, 0)\n",
    "\n",
    "dog_folder = \"Dog_train\"\n",
    "dog_images, dog_labels = load_images(dog_folder, 1)\n",
    "\n",
    "X_train = np.concatenate((cat_images, dog_images), axis=0)\n",
    "y_train = np.concatenate((cat_labels, dog_labels))\n",
    "\n",
    "cat_folder = \"Cat_test\"\n",
    "cat_images, cat_labels = load_images(cat_folder, 0)\n",
    "\n",
    "dog_folder = \"Dog_test\"\n",
    "dog_images, dog_labels = load_images(dog_folder, 1)\n",
    "\n",
    "X_test = np.concatenate((cat_images, dog_images), axis=0)\n",
    "y_test = np.concatenate((cat_labels, dog_labels))\n",
    "\n",
    "X = np.concatenate((X_train, X_test), axis=0)/X_train.max()\n",
    "y = np.concatenate((y_train, y_test))\n",
    "y = y.reshape(y.shape[0], 1)"
   ]
  },
  {
   "cell_type": "code",
   "execution_count": 10,
   "id": "d145b322",
   "metadata": {},
   "outputs": [],
   "source": [
    "#normalisation\n",
    "from sklearn.preprocessing import StandardScaler\n",
    "\n",
    "scaler = StandardScaler()\n",
    "X = scaler.fit_transform(X)"
   ]
  },
  {
   "cell_type": "code",
   "execution_count": 11,
   "id": "9207bdd4",
   "metadata": {},
   "outputs": [
    {
     "name": "stdout",
     "output_type": "stream",
     "text": [
      "(800, 65536)\n",
      "(800, 1)\n",
      "[[ 2.11055192  2.11385122  2.09640261 ... -0.0721025   0.02378218\n",
      "  -0.01333263]\n",
      " [ 0.61854766  0.61449316  0.60275963 ...  0.28465992  0.70559216\n",
      "   0.63212017]\n",
      " [-0.05285425 -0.19516019  0.24428531 ... -1.3532039  -1.33983778\n",
      "  -1.3526472 ]\n",
      " ...\n",
      " [ 0.3499869  -0.18016661 -0.4129176  ... -0.02345307 -0.70672851\n",
      "  -1.33651088]\n",
      " [ 0.99154873  1.00432625  0.9911068  ...  0.2360105   0.3484536\n",
      "   0.11575793]\n",
      " [-0.09761438 -0.12019229 -0.1589983  ...  0.2360105   0.28351932\n",
      "   0.32553009]]\n"
     ]
    }
   ],
   "source": [
    "print(X.shape)\n",
    "print(y.shape)\n",
    "print(X)"
   ]
  },
  {
   "cell_type": "code",
   "execution_count": 12,
   "id": "90ebdc82",
   "metadata": {},
   "outputs": [
    {
     "name": "stdout",
     "output_type": "stream",
     "text": [
      "1.0\n"
     ]
    },
    {
     "data": {
      "image/png": "[encoded data removed]",
      "text/plain": [
       "<Figure size 640x480 with 1 Axes>"
      ]
     },
     "metadata": {},
     "output_type": "display_data"
    }
   ],
   "source": [
    "W, b = perceptron(X, y)"
   ]
  },
  {
   "cell_type": "code",
   "execution_count": 59,
   "id": "36220247",
   "metadata": {},
   "outputs": [
    {
     "name": "stdout",
     "output_type": "stream",
     "text": [
      "Cat\n"
     ]
    }
   ],
   "source": [
    "# Charger une nouvelle image à tester\n",
    "test_image_path = \"40.png\"\n",
    "test_image = cv2.imread(test_image_path, cv2.IMREAD_GRAYSCALE)\n",
    "test_image = cv2.resize(test_image, (256, 256))  \n",
    "test_image_flattened = test_image.flatten().reshape(1, -1) \n",
    "#print(test_image_flattened.shape)\n",
    "# Faire la prédiction avec le modèle\n",
    "if not prediction(test_image_flattened, W, b) :\n",
    "    ys = 'Cat' \n",
    "else :\n",
    "    ys = 'Dog'\n",
    "print(ys)"
   ]
  },
  {
   "cell_type": "code",
   "execution_count": null,
   "id": "92a06000",
   "metadata": {},
   "outputs": [],
   "source": []
  },
  {
   "cell_type": "code",
   "execution_count": null,
   "id": "c1f6c446",
   "metadata": {},
   "outputs": [],
   "source": []
  }
 ],
 "metadata": {
  "kernelspec": {
   "display_name": "Python 3 (ipykernel)",
   "language": "python",
   "name": "python3"
  },
  "language_info": {
   "codemirror_mode": {
    "name": "ipython",
    "version": 3
   },
   "file_extension": ".py",
   "mimetype": "text/x-python",
   "name": "python",
   "nbconvert_exporter": "python",
   "pygments_lexer": "ipython3",
   "version": "3.11.5"
  }
 },
 "nbformat": 4,
 "nbformat_minor": 5
}
